{
  "nbformat": 4,
  "nbformat_minor": 0,
  "metadata": {
    "colab": {
      "name": "Day4_Assignment_B7.ipynb",
      "provenance": []
    },
    "kernelspec": {
      "name": "python3",
      "display_name": "Python 3"
    }
  },
  "cells": [
    {
      "cell_type": "code",
      "metadata": {
        "id": "4PB7kaodBokf",
        "colab_type": "code",
        "colab": {}
      },
      "source": [
        "#        DAY 4 ASSIGNMENT\n",
        "\n",
        "#1.  Print the first Armstrong number in the range of1042000 to 702648265 and exit the loop as you encounter the\n",
        "#first armstrong number.Use while loop"
      ],
      "execution_count": null,
      "outputs": []
    },
    {
      "cell_type": "code",
      "metadata": {
        "id": "4XW_Vy9R1GJ1",
        "colab_type": "code",
        "colab": {
          "base_uri": "https://localhost:8080/",
          "height": 272
        },
        "outputId": "e3cc03f0-40ce-469f-ac4d-4af1421f1e43"
      },
      "source": [
        "a=1042000\n",
        "b=702648265\n",
        "\n",
        "for num in range(a,b+1):\n",
        "  order=len(str(num))  \n",
        "  sum=0\n",
        "\n",
        "  temp=num\n",
        "  while temp>0:\n",
        "        digit=temp%10\n",
        "        sum+=digit**order\n",
        "        temp//=10 \n",
        "\n",
        "        if num==sum:\n",
        "          print(num) \n",
        "           \n",
        "   \n",
        "            \n"
      ],
      "execution_count": null,
      "outputs": [
        {
          "output_type": "stream",
          "text": [
            "1741725\n",
            "2097280\n",
            "2097281\n",
            "3278756\n",
            "4210818\n",
            "4782969\n",
            "4861095\n",
            "9800817\n",
            "9926315\n",
            "16790338\n",
            "16790338\n",
            "21816066\n",
            "24678050\n",
            "24678051\n",
            "26682755\n"
          ],
          "name": "stdout"
        }
      ]
    }
  ]
}